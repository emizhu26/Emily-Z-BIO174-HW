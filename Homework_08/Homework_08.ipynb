{
 "cells": [
  {
   "cell_type": "markdown",
   "metadata": {},
   "source": [
    "## Homework 8:\n",
    "\n",
    "__Exercise 1.__ Go to prosite and find the Gamma-glutamyl phosphate reductase signature. Write a script to detect all yeast proteins that have the Gamma-glutamyl phosphate reductase signature. Your script should output a dataframe with the folowing info about the proteins: accession number, match to the first, span of the motif, and the protein's description.\n",
    "\n",
    "**NOTE:** You can just copy the file with all the yeast protein form last class in the current directory, you don't need to download it again.\n",
    "\n",
    "```\n",
    "[VA]-x(5)-A-[LIVAMTCK]-x-[HWFY]-[IM]-x(2)-[HYWNRFT]-[GSNT]-[STAG]-x(0,1)-H-[ST]-[DE]-x(1,2)-I\n",
    "```"
   ]
  },
  {
   "cell_type": "code",
   "execution_count": 34,
   "metadata": {
    "collapsed": true
   },
   "outputs": [
    {
     "data": {
      "text/html": [
       "<div>\n",
       "<style scoped>\n",
       "    .dataframe tbody tr th:only-of-type {\n",
       "        vertical-align: middle;\n",
       "    }\n",
       "\n",
       "    .dataframe tbody tr th {\n",
       "        vertical-align: top;\n",
       "    }\n",
       "\n",
       "    .dataframe thead th {\n",
       "        text-align: right;\n",
       "    }\n",
       "</style>\n",
       "<table border=\"1\" class=\"dataframe\">\n",
       "  <thead>\n",
       "    <tr style=\"text-align: right;\">\n",
       "      <th></th>\n",
       "      <th>acc</th>\n",
       "      <th>match</th>\n",
       "      <th>start_end</th>\n",
       "      <th>seq</th>\n",
       "    </tr>\n",
       "  </thead>\n",
       "  <tbody>\n",
       "    <tr>\n",
       "      <th>0</th>\n",
       "      <td>YOR323C</td>\n",
       "      <td>VTSTESAIQHINTHSSRHTDAI</td>\n",
       "      <td>(338, 360)</td>\n",
       "      <td>YOR323C PRO2 SGDID:S000005850, Chr XV from 922...</td>\n",
       "    </tr>\n",
       "  </tbody>\n",
       "</table>\n",
       "</div>"
      ],
      "text/plain": [
       "       acc                   match   start_end  \\\n",
       "0  YOR323C  VTSTESAIQHINTHSSRHTDAI  (338, 360)   \n",
       "\n",
       "                                                 seq  \n",
       "0  YOR323C PRO2 SGDID:S000005850, Chr XV from 922...  "
      ]
     },
     "execution_count": 34,
     "metadata": {},
     "output_type": "execute_result"
    }
   ],
   "source": [
    "import pandas as pd\n",
    "from Bio import SeqIO\n",
    "import re\n",
    "\n",
    "pattern = \"[VA].{5}A[LIVAMTCK]\\w[HWFY][IM].{2}[HYWNRFT][GSNT][STAG].{0,1}H[ST][DE].{1,2}I\"\n",
    "orfFile = 'orf_trans.fasta'\n",
    "\n",
    "def findinseqfile(pattern,filein):\n",
    "    information = []\n",
    "    for seq_record in SeqIO.parse(filein, \"fasta\"):\n",
    "        result = re.search(pattern,str(seq_record.seq))\n",
    "        if result:\n",
    "            information.append([seq_record.name ,result.group(), result.span(), str(seq_record.description)])\n",
    "\n",
    "    return pd.DataFrame(information, columns=['acc','match','start_end','seq'])\n",
    "\n",
    "findinseqfile(pattern, orfFile)"
   ]
  },
  {
   "cell_type": "markdown",
   "metadata": {},
   "source": [
    "__Exercise 2.__ Now do the same for the Hexapeptide-repeat containing-transferases signature.\n",
    "\n",
    "```\n",
    "[LIV]-[GAED]-x(2)-[STAV]-x-[LIV]-x(3)-[LIVAC]-x-[LIV]-[GAED]-x(2)-[STAVR]-x-[LIV]-[GAED]-x(2)-[STAV]-x-[LIV]-x(3)-[LIV]\n",
    "```"
   ]
  },
  {
   "cell_type": "code",
   "execution_count": 36,
   "metadata": {
    "collapsed": true
   },
   "outputs": [
    {
     "data": {
      "text/html": [
       "<div>\n",
       "<style scoped>\n",
       "    .dataframe tbody tr th:only-of-type {\n",
       "        vertical-align: middle;\n",
       "    }\n",
       "\n",
       "    .dataframe tbody tr th {\n",
       "        vertical-align: top;\n",
       "    }\n",
       "\n",
       "    .dataframe thead th {\n",
       "        text-align: right;\n",
       "    }\n",
       "</style>\n",
       "<table border=\"1\" class=\"dataframe\">\n",
       "  <thead>\n",
       "    <tr style=\"text-align: right;\">\n",
       "      <th></th>\n",
       "      <th>acc</th>\n",
       "      <th>match</th>\n",
       "      <th>start_end</th>\n",
       "      <th>seq</th>\n",
       "    </tr>\n",
       "  </thead>\n",
       "  <tbody>\n",
       "    <tr>\n",
       "      <th>0</th>\n",
       "      <td>YDL055C</td>\n",
       "      <td>IDPTAKISSTAKIGPDVVIGPNVTIGDGV</td>\n",
       "      <td>(256, 285)</td>\n",
       "      <td>YDL055C PSA1 SGDID:S000002213, Chr IV from 356...</td>\n",
       "    </tr>\n",
       "    <tr>\n",
       "      <th>1</th>\n",
       "      <td>YJL218W</td>\n",
       "      <td>IGGGVSIIPGVNIGKNSVIAAGSVVIRDI</td>\n",
       "      <td>(138, 167)</td>\n",
       "      <td>YJL218W YJL218W SGDID:S000003754, Chr X from 2...</td>\n",
       "    </tr>\n",
       "  </tbody>\n",
       "</table>\n",
       "</div>"
      ],
      "text/plain": [
       "       acc                          match   start_end  \\\n",
       "0  YDL055C  IDPTAKISSTAKIGPDVVIGPNVTIGDGV  (256, 285)   \n",
       "1  YJL218W  IGGGVSIIPGVNIGKNSVIAAGSVVIRDI  (138, 167)   \n",
       "\n",
       "                                                 seq  \n",
       "0  YDL055C PSA1 SGDID:S000002213, Chr IV from 356...  \n",
       "1  YJL218W YJL218W SGDID:S000003754, Chr X from 2...  "
      ]
     },
     "execution_count": 36,
     "metadata": {},
     "output_type": "execute_result"
    }
   ],
   "source": [
    "pattern2 = \"[LIV][GAED].{2}[STAV]\\w[LIV].{3}[LIVAC]\\w[LIV][GAED].{2}[STAVR]\\w[LIV][GAED].{2}[STAV]\\w[LIV].{3}[LIV]\"\n",
    "findinseqfile(pattern2, orfFile)"
   ]
  },
  {
   "cell_type": "markdown",
   "metadata": {},
   "source": [
    "__Exercise 3.__ Now find the 14-3-3 proteins signatures. The 14-3-3 proteins seem to have multiple biological activities and play a key role in signal transduction pathways and the cell cycle. The prosite database uses two motifs to determine members of this family.\n",
    "\n",
    "Write a script to search for proteins in yeast that have both domains in either order. You should find two proteins.\n",
    "\n",
    "Your script should show a dataframe with the proteins: accession number, match to the first motif, span of the first motif, match to the second motif, span of the second motif, and the proteins description.\n",
    "\n",
    "Although your regex doesn't need to match the domains in the reverse order for it to identify both yeast proteins, I would like for you to write a regex that would be able to identify such a case for this exercise purpose.\n",
    "\n",
    "```\n",
    "[RA]-N-L-[LIV]-S-[VG]-[GA]-Y-[KN]-N-[IVA]\n",
    "```\n",
    "\n",
    "and\n",
    "\n",
    "```\n",
    "Y-K-[DE]-[SG]-T-L-I-[IML]-Q-L-[LF]-[RHC]-D-N-[LF]-T-[LS]-W-[TANS]-[SAD]\n",
    "```"
   ]
  },
  {
   "cell_type": "code",
   "execution_count": 40,
   "metadata": {
    "collapsed": true
   },
   "outputs": [
    {
     "data": {
      "text/html": [
       "<div>\n",
       "<style scoped>\n",
       "    .dataframe tbody tr th:only-of-type {\n",
       "        vertical-align: middle;\n",
       "    }\n",
       "\n",
       "    .dataframe tbody tr th {\n",
       "        vertical-align: top;\n",
       "    }\n",
       "\n",
       "    .dataframe thead th {\n",
       "        text-align: right;\n",
       "    }\n",
       "</style>\n",
       "<table border=\"1\" class=\"dataframe\">\n",
       "  <thead>\n",
       "    <tr style=\"text-align: right;\">\n",
       "      <th></th>\n",
       "      <th>acc</th>\n",
       "      <th>match1</th>\n",
       "      <th>start_end1</th>\n",
       "      <th>match2</th>\n",
       "      <th>start_end2</th>\n",
       "      <th>seq</th>\n",
       "    </tr>\n",
       "  </thead>\n",
       "  <tbody>\n",
       "    <tr>\n",
       "      <th>0</th>\n",
       "      <td>YDR099W</td>\n",
       "      <td>RNLLSVAYKNV</td>\n",
       "      <td>(42, 53)</td>\n",
       "      <td>YKDSTLIMQLLRDNLTLWTS</td>\n",
       "      <td>(215, 235)</td>\n",
       "      <td>YDR099W BMH2 SGDID:S000002506, Chr IV from 653...</td>\n",
       "    </tr>\n",
       "    <tr>\n",
       "      <th>1</th>\n",
       "      <td>YER177W</td>\n",
       "      <td>RNLLSVAYKNV</td>\n",
       "      <td>(42, 53)</td>\n",
       "      <td>YKDSTLIMQLLRDNLTLWTS</td>\n",
       "      <td>(215, 235)</td>\n",
       "      <td>YER177W BMH1 SGDID:S000000979, Chr V from 5456...</td>\n",
       "    </tr>\n",
       "  </tbody>\n",
       "</table>\n",
       "</div>"
      ],
      "text/plain": [
       "       acc       match1 start_end1                match2  start_end2  \\\n",
       "0  YDR099W  RNLLSVAYKNV   (42, 53)  YKDSTLIMQLLRDNLTLWTS  (215, 235)   \n",
       "1  YER177W  RNLLSVAYKNV   (42, 53)  YKDSTLIMQLLRDNLTLWTS  (215, 235)   \n",
       "\n",
       "                                                 seq  \n",
       "0  YDR099W BMH2 SGDID:S000002506, Chr IV from 653...  \n",
       "1  YER177W BMH1 SGDID:S000000979, Chr V from 5456...  "
      ]
     },
     "execution_count": 40,
     "metadata": {},
     "output_type": "execute_result"
    }
   ],
   "source": [
    "orfFile = 'orf_trans.fasta'\n",
    "\n",
    "p1 = \"[RA]NL[LIV]S[VS][GA]Y[KN]N[IVA]\"\n",
    "p2 = \"YK[DE][SG]TLI[IML]QL[LF][RHC]DN[LF]T[LS]W[TANS][SAD]\"\n",
    "\n",
    "def findtwoseqsinfile(p1, p2,filein):\n",
    "    information = []\n",
    "    for seq_record in SeqIO.parse(filein, \"fasta\"):\n",
    "        result1 = re.search(p1,str(seq_record.seq))\n",
    "        result2 = re.search(p2,str(seq_record.seq))\n",
    "        if result1:\n",
    "            if result2:\n",
    "                information.append([seq_record.name ,result1.group(), result1.span(), result2.group(), result2.span(), str(seq_record.description)])\n",
    "        \n",
    "        elif result2:\n",
    "            if result1:\n",
    "                information.append([seq_record.name ,result1.group(), result1.span(), result2.group(), result2.span(), str(seq_record.description)])\n",
    "\n",
    "    return pd.DataFrame(information, columns=['acc','match1','start_end1','match2','start_end2','seq'])\n",
    "\n",
    "findtwoseqsinfile(p1, p2, orfFile)"
   ]
  },
  {
   "cell_type": "markdown",
   "metadata": {},
   "source": [
    "__Exercise 4.__ Parsing and extracting data from a URL:\n",
    "\n",
    "This is form the tutorial that you should have completed.\n",
    "\n",
    "When working with files and resources over a network, you will often come across URIs and URLs which can be parsed and worked with directly. Most standard libraries will have classes to parse and construct these kind of identifiers, but if you need to match them in logs or a larger corpus of text, you can use regular expressions to pull out information from their structured format quite easily.\n",
    "\n",
    "URIs, or Uniform Resource Identifiers, are a representation of a resource that is generally composed of a scheme, host, port (optional), and resource path, respectively highlighted below.\n",
    "\n",
    "http://regexone.com:80/page\n",
    "\n",
    "The scheme describes the protocol to communicate with, the host and port describe the source of the resource, and the full path describes the location at the source for the resource.\n",
    "\n",
    "In the exercise below, try to extract the protocol, host and port of the all the resources listed in this string.\n",
    "\n",
    "```\n",
    "ftp://file_server.com:21/top_secret/life_changing_plans.pdf\n",
    "https://regexone.com/lesson/introduction#section\n",
    "file://localhost:4040/zip_file\n",
    "https://s3cur3-server.com:9999/\n",
    "market://search/angry%20birds\n",
    "```\n",
    "\n",
    "You can work interactively here: https://regexone.com/problem/extracting_url_data to find the right regular expression, then use re.finditer to create a dataframe with columns protocol, host and port for each of the matches in the string."
   ]
  },
  {
   "cell_type": "code",
   "execution_count": 57,
   "metadata": {
    "collapsed": true
   },
   "outputs": [
    {
     "data": {
      "text/html": [
       "<div>\n",
       "<style scoped>\n",
       "    .dataframe tbody tr th:only-of-type {\n",
       "        vertical-align: middle;\n",
       "    }\n",
       "\n",
       "    .dataframe tbody tr th {\n",
       "        vertical-align: top;\n",
       "    }\n",
       "\n",
       "    .dataframe thead th {\n",
       "        text-align: right;\n",
       "    }\n",
       "</style>\n",
       "<table border=\"1\" class=\"dataframe\">\n",
       "  <thead>\n",
       "    <tr style=\"text-align: right;\">\n",
       "      <th></th>\n",
       "      <th>protocol</th>\n",
       "      <th>host</th>\n",
       "    </tr>\n",
       "  </thead>\n",
       "  <tbody>\n",
       "    <tr>\n",
       "      <th>0</th>\n",
       "      <td>&lt;re.Match object; span=(0, 24), match='ftp://f...</td>\n",
       "      <td>None</td>\n",
       "    </tr>\n",
       "    <tr>\n",
       "      <th>1</th>\n",
       "      <td>&lt;re.Match object; span=(0, 20), match='https:/...</td>\n",
       "      <td>None</td>\n",
       "    </tr>\n",
       "    <tr>\n",
       "      <th>2</th>\n",
       "      <td>&lt;re.Match object; span=(0, 21), match='file://...</td>\n",
       "      <td>&lt;re.Match object; span=(22, 60), match='zip_fi...</td>\n",
       "    </tr>\n",
       "    <tr>\n",
       "      <th>3</th>\n",
       "      <td>&lt;re.Match object; span=(0, 15), match='market:...</td>\n",
       "      <td>None</td>\n",
       "    </tr>\n",
       "  </tbody>\n",
       "</table>\n",
       "</div>"
      ],
      "text/plain": [
       "                                            protocol  \\\n",
       "0  <re.Match object; span=(0, 24), match='ftp://f...   \n",
       "1  <re.Match object; span=(0, 20), match='https:/...   \n",
       "2  <re.Match object; span=(0, 21), match='file://...   \n",
       "3  <re.Match object; span=(0, 15), match='market:...   \n",
       "\n",
       "                                                host  \n",
       "0                                               None  \n",
       "1                                               None  \n",
       "2  <re.Match object; span=(22, 60), match='zip_fi...  \n",
       "3                                               None  "
      ]
     },
     "execution_count": 57,
     "metadata": {},
     "output_type": "execute_result"
    }
   ],
   "source": [
    "pattern = \"(\\w+)://([\\w\\-\\.]+)(:(\\d+))?\"\n",
    "search = ['ftp://file_server.com:21/top_secret/life_changing_plans.pdf', 'https://regexone.com/lesson/introduction#section', 'file://localhost:4040/zip_file' \n",
    "          'https://s3cur3-server.com:9999/', 'market://search/angry%20birds']\n",
    "\n",
    "match = []\n",
    "for i in search:\n",
    "    match.append(re.finditer(pattern, i))\n",
    "\n",
    "matches = []\n",
    "for j in match:\n",
    "    matches.append(j)\n",
    "\n",
    "pd.DataFrame(matches, columns=['protocol', 'host'])\n"
   ]
  }
 ],
 "metadata": {
  "kernelspec": {
   "display_name": "Python 3",
   "language": "python",
   "name": "python3"
  },
  "language_info": {
   "codemirror_mode": {
    "name": "ipython",
    "version": 3
   },
   "file_extension": ".py",
   "mimetype": "text/x-python",
   "name": "python",
   "nbconvert_exporter": "python",
   "pygments_lexer": "ipython3",
   "version": "3.11.5"
  }
 },
 "nbformat": 4,
 "nbformat_minor": 2
}
