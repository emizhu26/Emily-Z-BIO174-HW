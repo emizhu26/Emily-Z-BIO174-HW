{
 "cells": [
  {
   "cell_type": "markdown",
   "metadata": {},
   "source": [
    "# Homework 3:\n",
    "\n",
    "Do these exercises individually. You should use this ipython notebook and for each question you should have one code cell with you answer. Copy this notebook to your individual local repository in a directory called \"Homework_03\" and when you are done push the changes and sync with your github repository. If any of the questions need a separate file to be read by your program, add it to the same directory and make sure to push the file as well.\n",
    "\n",
    "A lot of these exercises are from this webpage: http://www.ling.gu.se/~lager/python_exercises.html. There are answers to these exercises online. Please do not copy the answers, you can search online for ideas but avoid using the text of the question on google.\n",
    "\n",
    "PLEASE DO NOT USE GITHUB CO-PILOT.\n",
    "\n",
    "For each question write the requested function and then call the function with the requested arguments. For example, if the question asks you to write a function called \"add\" that adds two numbers and then call the function with the arguments 2 and 3, you would write:\n",
    "\n",
    "```python \n",
    "def add(a,b):\n",
    "    return a+b\n",
    "\n",
    "add(2,3)\n",
    "```"
   ]
  },
  {
   "cell_type": "markdown",
   "metadata": {},
   "source": [
    "__Exercise 1.__ Write a Python function that asks the user for the radius of a circle and computes the area of the circle. Call the function with different values for the radius."
   ]
  },
  {
   "cell_type": "code",
   "execution_count": 4,
   "metadata": {
    "collapsed": true
   },
   "outputs": [
    {
     "data": {
      "text/plain": [
       "28.26"
      ]
     },
     "execution_count": 4,
     "metadata": {},
     "output_type": "execute_result"
    }
   ],
   "source": [
    "def area(radius):\n",
    "    return 3.14 * (radius**2)\n",
    "\n",
    "area(3)\n",
    "area(1)\n",
    "area(20)"
   ]
  },
  {
   "cell_type": "markdown",
   "metadata": {},
   "source": [
    "__Exercise 2.__ Write a Python function that receives a filename, and returns the extension of the file. Examples:\n",
    "\n",
    "* **test.txt**, extension is txt\n",
    "* **notebook.ipynb**, extension is ipynb\n",
    "* **case.1.txt**, extension is txt\n",
    "* **item.1.2.a.doc**, extension is doc\n",
    "* **file**, no extension, your program should return something saying that there is no extension\n",
    "\n",
    "Call your function with the filenames above and return the extension."
   ]
  },
  {
   "cell_type": "code",
   "execution_count": 11,
   "metadata": {
    "collapsed": true
   },
   "outputs": [
    {
     "data": {
      "text/plain": [
       "'There is no extension'"
      ]
     },
     "execution_count": 11,
     "metadata": {},
     "output_type": "execute_result"
    }
   ],
   "source": [
    "def extension(filename):\n",
    "    if \".\" in filename:\n",
    "        perindex = filename.rfind(\".\")\n",
    "        return filename[perindex:]\n",
    "    else:\n",
    "        return \"There is no extension\"\n",
    "    \n",
    "extension(\"file\")"
   ]
  },
  {
   "cell_type": "markdown",
   "metadata": {},
   "source": [
    "__Exercise 3.__ Write a Python function that takes two points (in the form X, Y) and computes the euclidian distance between the two points. In other words, given two points (x1,y1) and (x2, y2), return the distance between the points, given by:\n",
    "\n",
    "$$\n",
    "\\begin{equation*} d=\\sqrt{(x_2-x_1)^2+(y_2-y_1)^2} \\end{equation*}\n",
    "$$\n",
    "\n",
    "Call your function with some points to test that it works."
   ]
  },
  {
   "cell_type": "code",
   "execution_count": 13,
   "metadata": {
    "collapsed": true
   },
   "outputs": [
    {
     "data": {
      "text/plain": [
       "4.242640687119285"
      ]
     },
     "execution_count": 13,
     "metadata": {},
     "output_type": "execute_result"
    }
   ],
   "source": [
    "import math as m\n",
    "def distance(x1,y1,x2,y2):\n",
    "    return m.sqrt((x2-x1)**2 + (y2-y1)**2)\n",
    "\n",
    "distance(3,3, 0,0)"
   ]
  },
  {
   "cell_type": "markdown",
   "metadata": {},
   "source": [
    "__Exercise 4.__ Create a function called `max_in_list()` that takes a list of numbers of any length and returns the largest one without using python's builtin `max()`. Your program should work for any numbers, including negative numbers. \n",
    "\n",
    "Call your function with different lists of numbers (including negative numbers) and show that it works."
   ]
  },
  {
   "cell_type": "code",
   "execution_count": 18,
   "metadata": {},
   "outputs": [
    {
     "data": {
      "text/plain": [
       "-1"
      ]
     },
     "execution_count": 18,
     "metadata": {},
     "output_type": "execute_result"
    }
   ],
   "source": [
    "def max_in_list(num_list):\n",
    "    max = num_list[0]\n",
    "    for num in num_list:\n",
    "        if num >= max:\n",
    "            max = num\n",
    "    \n",
    "    return max\n",
    "\n",
    "max_in_list([-5, -3, -1])"
   ]
  },
  {
   "cell_type": "markdown",
   "metadata": {},
   "source": [
    "__Exercise 5.__ Write a **function** `translate()` that will translate a text into pig Latin. According to wikipedia here are the rules for pig latin:\n",
    "\n",
    "1. For words that begin with consonant sounds, all letters before the initial vowel are placed at the end of the word sequence. Then, \"ay\" (some people just add \"a\") is added, as in the following examples:\n",
    "  * pig → igpay\n",
    "  * banana → ananabay\n",
    "  * trash → ashtray\n",
    "  * happy → appyhay\n",
    "2. For words which begin with vowel sounds or silent letter, one just adds \"yay\" to the end. Examples are:\n",
    "  * eat → eatyay\n",
    "  * omelet → omeletyay\n",
    "\n",
    "You do not need to worry about special characters or punctuation. Just remove those from the string.\n",
    "\n",
    "Call your function with the following string:\n",
    "\n",
    "```\n",
    "Hello. My name is Andre. \n",
    "```\n",
    "\n",
    "It should return:\n",
    "\n",
    "```\n",
    "ellohay ymay amenay isyay andreyay \n",
    "```"
   ]
  },
  {
   "cell_type": "code",
   "execution_count": 49,
   "metadata": {
    "collapsed": true
   },
   "outputs": [
    {
     "data": {
      "text/plain": [
       "'ellohay ymay amenay isyay andreyay'"
      ]
     },
     "execution_count": 49,
     "metadata": {},
     "output_type": "execute_result"
    }
   ],
   "source": [
    "import string\n",
    "def translate(text):\n",
    "    new_string = text.translate(str.maketrans('', '', string.punctuation))\n",
    "    new_string = new_string.lower()\n",
    "    vowels = ['a', 'e', 'i', 'o', 'u']\n",
    "\n",
    "    splitup = new_string.split()\n",
    "    final_string = ''\n",
    "\n",
    "    for word in splitup:\n",
    "        if word[0] not in vowels:\n",
    "            final_string += word[1:] + word[0] + \"ay\" + \" \"\n",
    "        elif word[0] in vowels:\n",
    "            final_string += word + \"yay\" + \" \"\n",
    "    \n",
    "    return final_string[:-1]\n",
    "\n",
    "\n",
    "translate(\"Hello. My name is Andre\")\n"
   ]
  },
  {
   "cell_type": "markdown",
   "metadata": {},
   "source": [
    "__Exercise 6.__  Palindromes are words or phrases that read the same when written backwards.Create a **function** `is_palindrome()` that receives a string variable and determines if it is a palindrome. \n",
    "\n",
    "The function should return true or false, and should ignore punctuation, capitalization, and spacing.\n",
    "\n",
    "Test your function with some palindromes and non-palindromes. Here are some palindromes:\n",
    "\n",
    "```\n",
    "\"Go hang a salami I'm a lasagna hog.\", \n",
    "\"Was it a rat I saw?\", \n",
    "\"Step on no pets\", \n",
    "\"Sit on a potato pan, Otis\", \n",
    "\"Satan, oscillate my metallic sonatas\", \n",
    "\"Rise to vote sir\", \n",
    "\"Dammit, I'm mad!\"\n",
    "```"
   ]
  },
  {
   "cell_type": "code",
   "execution_count": 33,
   "metadata": {
    "collapsed": true
   },
   "outputs": [
    {
     "data": {
      "text/plain": [
       "True"
      ]
     },
     "execution_count": 33,
     "metadata": {},
     "output_type": "execute_result"
    }
   ],
   "source": [
    "def is_palindrome(string):\n",
    "    reduced = \"\"\n",
    "    for char in string:\n",
    "        if char.isalnum():\n",
    "            if char.isupper():\n",
    "                reduced += char.lower()\n",
    "            else:\n",
    "                reduced += char\n",
    "        else:\n",
    "            reduced += ''\n",
    "    \n",
    "    reversed = reduced[::-1]\n",
    "    \n",
    "    return reduced == reversed\n",
    "\n",
    "is_palindrome(\"Dammit, I'm mad!\")"
   ]
  },
  {
   "cell_type": "markdown",
   "metadata": {},
   "source": [
    "__Exercise 7.__ Write a function that receives a file name, opens the file, reads each line, and uses the `is_palindrome()` function from the previous exercise to print the line to the screen if it is a palindrome.\n",
    "\n",
    "Test the function with the `palindromes.txt` file in the current directory. When given this file, your program should output:\n",
    "\n",
    "```\n",
    "was it a rat i saw?!?\n",
    "Are we not drawn onward, we few, drawn onward to new era?\n",
    "A man, a plan, a canal - Panama\n",
    "Never odd or even\n",
    "aviva\n",
    "```"
   ]
  },
  {
   "cell_type": "code",
   "execution_count": 35,
   "metadata": {
    "collapsed": true
   },
   "outputs": [
    {
     "name": "stdout",
     "output_type": "stream",
     "text": [
      "was it a rat i saw?!?\n",
      "\n",
      "Are we not drawn onward, we few, drawn onward to new era?\n",
      "\n",
      "A man, a plan, a canal - Panama\n",
      "\n",
      "Never odd or even\n",
      "\n",
      "aviva\n",
      "\n"
     ]
    }
   ],
   "source": [
    "def print_palidromes(filename):\n",
    "    file = open(filename)\n",
    "    for line in file:\n",
    "        line.strip()\n",
    "        if is_palindrome(line):\n",
    "            print(line)\n",
    "    file.close()\n",
    "\n",
    "print_palidromes(\"palindromes.txt\")"
   ]
  },
  {
   "cell_type": "markdown",
   "metadata": {},
   "source": [
    "__Exercise 8.__ According to Wikipedia, a semordnilap is a word or phrase that spells a different word or phrase backwards. (\"Semordnilap\" is itself \"palindromes\" spelled backwards.) Write a semordnilap recogniser function that accepts a file name from the user for a file containing a list of words, one per line. The function will read the file and find and print all pairs of words that are semordnilaps to the screen. \n",
    "\n",
    "For example, if \"stressed\" and \"desserts\" are part of the word list, the output should include the pair \"stressed desserts\". Note, by the way, that each pair by itself forms a palindrome. But it should output each pair only once, so if the program output \"stressed desserts\" it should not output \"desserts stressed\".\n",
    "\n",
    "You can test your function using the file: `semordnilap.txt`. It should return:\n",
    "\n",
    "```\n",
    "desserts stressed\n",
    "Semordnilap palindromes\n",
    "```"
   ]
  },
  {
   "cell_type": "code",
   "execution_count": 134,
   "metadata": {
    "collapsed": true
   },
   "outputs": [
    {
     "name": "stdout",
     "output_type": "stream",
     "text": [
      "desserts stressed\n",
      "Semordnilap palindromes\n"
     ]
    }
   ],
   "source": [
    "def semordnilap(filename):\n",
    "    file = open(filename)\n",
    "    \n",
    "    word_list = []\n",
    "    for line in file:\n",
    "        word_list.append(line.strip())\n",
    " \n",
    "    for i in range(len(word_list)):\n",
    "        for j in word_list[i+1:]:\n",
    "            if is_palindrome(word_list[i] + j):\n",
    "                print(word_list[i] + \" \" + j)\n",
    "                word_list[i] = \"null\"\n",
    "                word_list[word_list.index(j)] = \"null\"\n",
    "    \n",
    "    file.close()\n",
    "\n",
    "\n",
    "semordnilap(\"semordnilap.txt\")\n"
   ]
  },
  {
   "cell_type": "markdown",
   "metadata": {},
   "source": [
    "__Exercise 9.__ Write a function that asks for a filename, reads all the words in the file, calculates the average word length and creates a histogram of words length. \n",
    "\n",
    "A histogram shows how many times you encountered a word of a given size. \n",
    "The output of the program should look like:\n",
    "\n",
    "```\n",
    "The file: filename contains X words, the average length of the words is: Y.\n",
    "Histogram of the word sizes:\n",
    "1: ***********\n",
    "2: ********\n",
    "3: *************\n",
    "4: *********\n",
    "....\n",
    "```\n",
    "\n",
    "I'll test using this file: `text.txt`. Your output should be:\n",
    "\n",
    "```\n",
    "The file text.txt contains 69 words, with an average word length of 5. Histogram of the word sizes:\n",
    "1: \n",
    "2: *************\n",
    "3: *****\n",
    "4: ***********\n",
    "5: **********\n",
    "6: *********\n",
    "7: ********\n",
    "8: ****\n",
    "9: ****\n",
    "10: **\n",
    "11: *\n",
    "12: *\n",
    "13: *\n",
    "```\n",
    "\n",
    "To do this, you need to find the size of each word, and then count all words of size 1, size 2, etc. Each ```*``` in each row in your histogram represents one occurrence of a word of that size."
   ]
  },
  {
   "cell_type": "code",
   "execution_count": 6,
   "metadata": {
    "collapsed": true
   },
   "outputs": [
    {
     "name": "stdout",
     "output_type": "stream",
     "text": [
      "The file text.txt contains 69 words, with an average word length of 5. Histogram of the word sizes: \n",
      "1: \n",
      "2: *************\n",
      "3: *****\n",
      "4: ***********\n",
      "5: **********\n",
      "6: *********\n",
      "7: ********\n",
      "8: ****\n",
      "9: ****\n",
      "10: **\n",
      "11: *\n",
      "12: *\n",
      "13: *\n"
     ]
    }
   ],
   "source": [
    "import string\n",
    "\n",
    "def word_lens(filename):\n",
    "    file = open(filename)\n",
    "\n",
    "    word_lengths = []\n",
    "    for line in file:\n",
    "        new_line = line.translate(str.maketrans('', '', string.punctuation))\n",
    "        new_line = new_line.split()\n",
    "        for word in new_line:\n",
    "            word_lengths.append(len(word))\n",
    "    \n",
    "    avg_length = sum(word_lengths) // len(word_lengths)\n",
    "    \n",
    "    word_dict = {}\n",
    "    for i in range(1, max(word_lengths)+1):\n",
    "        word_dict[i] = \"\"\n",
    "\n",
    "    for item in word_lengths:\n",
    "        word_dict[item] += \"*\"\n",
    "            \n",
    "    sorted_dict = sorted(word_dict.items())\n",
    "\n",
    "    print(\"The file \" + filename + \" contains \" + str(len(word_lengths)) + \" words, with an average word length of \" + \\\n",
    "          str(avg_length) + \". Histogram of the word sizes: \")\n",
    "    \n",
    "    for key, val in sorted_dict:\n",
    "        print(str(key) + \": \" + str(val))\n",
    "\n",
    "    file.close()\n",
    "\n",
    "word_lens('text.txt')"
   ]
  },
  {
   "cell_type": "markdown",
   "metadata": {},
   "source": [
    "__Exercise 10.__ Write a program able to play the \"Guess the number\" game, where the number to be guessed is randomly chosen between 1 and 20. This is how it should work when run:\n",
    "\n",
    "```\n",
    "Hello! What is your name?\n",
    "  Andre\n",
    "Well, Andre, I am thinking of a number between 1 and 20.\n",
    "Take a guess.\n",
    "  10\n",
    "Your guess is too low.\n",
    "Take a guess.\n",
    "  15\n",
    "Your guess is too low.\n",
    "Take a guess.\n",
    "  18\n",
    "Good job, Andre! You guessed my number in 3 guesses!\n",
    "```"
   ]
  },
  {
   "cell_type": "code",
   "execution_count": 148,
   "metadata": {
    "collapsed": true
   },
   "outputs": [
    {
     "name": "stdout",
     "output_type": "stream",
     "text": [
      "Hello! What is your name?\n",
      "Well, Emily, I am thinking of a number between 1 and 20.\n",
      "Take a guess.\n",
      "18\n",
      "Your guess is too high.\n",
      "Take a guess\n",
      "19\n",
      "Your guess is too high.\n",
      "Take a guess\n",
      "12\n",
      "Your guess is too high.\n",
      "Take a guess\n",
      "8\n",
      "Your guess is too low.\n",
      "Take a guess\n",
      "9\n",
      "Your guess is too low.\n",
      "Take a guess\n",
      "10\n",
      "Good job, Emily! You guessed my number in 6 guesses!\n"
     ]
    }
   ],
   "source": [
    "import random\n",
    "\n",
    "def guess_number():\n",
    "    print(\"Hello! What is your name?\")\n",
    "    name = input(\"Hello! What is your name?\")\n",
    "    print(\"Well, \" + name + \", I am thinking of a number between 1 and 20.\")\n",
    "    print(\"Take a guess.\")\n",
    "    guess = int(input(\"Take a guess.\"))\n",
    "    print(guess)\n",
    "\n",
    "    answer = random.randint(1, 20)\n",
    "\n",
    "    guesses = 1\n",
    "    while (guess != answer):\n",
    "        if guess < answer:\n",
    "            print(\"Your guess is too low.\")\n",
    "        else:\n",
    "            print(\"Your guess is too high.\")\n",
    "        guesses += 1\n",
    "        print(\"Take a guess\")\n",
    "        guess = int(input(\"Take a guess\"))\n",
    "        print(guess)\n",
    "    \n",
    "    print(\"Good job, \" + name + \"! You guessed my number in \" + str(guesses) + \" guesses!\")\n",
    "\n",
    "\n",
    "def main():\n",
    "    guess_number()\n",
    "\n",
    "if __name__==\"__main__\": \n",
    "    main() "
   ]
  }
 ],
 "metadata": {
  "anaconda-cloud": {},
  "kernelspec": {
   "display_name": "Python 3",
   "language": "python",
   "name": "python3"
  },
  "language_info": {
   "codemirror_mode": {
    "name": "ipython",
    "version": 3
   },
   "file_extension": ".py",
   "mimetype": "text/x-python",
   "name": "python",
   "nbconvert_exporter": "python",
   "pygments_lexer": "ipython3",
   "version": "3.11.1"
  }
 },
 "nbformat": 4,
 "nbformat_minor": 1
}
