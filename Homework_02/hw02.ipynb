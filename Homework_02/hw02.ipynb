{
 "cells": [
  {
   "cell_type": "markdown",
   "metadata": {},
   "source": [
    "|           Year        |      Species      |  Characteristics |\n",
    "|---------------------------|:---------------------------:|----------:|\n",
    "| ~3-4 million years ago |  Man-like primates, early hominids | Hunter-gatherer, fruit/carnivorous diet, small brain, short but walked upright |\n",
    "| 2.4-1.6 million years ago |    Homo habilis   |   Reduced brow ridge, lighter jaw, used stone tools  |\n",
    "| 1.8-0.1 million years ago | Homo erectus | Thick skull bones, developed external nose, use of fire and rudimentary language |\n",
    "| 200,000-30,000 years ago  | Homo neanderthalensis  | Long, narrow face with broad nose and brow ridge, cave dweller  |\n",
    "| 140,000 years ago-now  |  Homo sapiens  |  Modern day humans  |"
   ]
  },
  {
   "cell_type": "markdown",
   "metadata": {},
   "source": [
    "<img src=\"stages.jpeg\" alt=\"stages of evolution\" width=\"400px\">\n",
    "\n",
    "These are the stages and species of human evolution\n"
   ]
  },
  {
   "cell_type": "code",
   "execution_count": 43,
   "metadata": {},
   "outputs": [
    {
     "data": {
      "text/html": [
       "\n",
       "        <iframe\n",
       "            width=\"400\"\n",
       "            height=\"300\"\n",
       "            src=\"https://www.youtube.com/embed/ehV-MmuvVMU\"\n",
       "            frameborder=\"0\"\n",
       "            allowfullscreen\n",
       "            \n",
       "        ></iframe>\n",
       "        "
      ],
      "text/plain": [
       "<IPython.lib.display.YouTubeVideo at 0x1084b6190>"
      ]
     },
     "execution_count": 43,
     "metadata": {},
     "output_type": "execute_result"
    }
   ],
   "source": [
    "from IPython.display import YouTubeVideo\n",
    "# A brief overview of human evolution\n",
    "# Video credit: National Geographic.\n",
    "YouTubeVideo('ehV-MmuvVMU')"
   ]
  },
  {
   "cell_type": "code",
   "execution_count": 42,
   "metadata": {},
   "outputs": [
    {
     "data": {
      "image/svg+xml": [
       "<svg xmlns=\"http://www.w3.org/2000/svg\" xmlns:xlink=\"http://www.w3.org/1999/xlink\" width=\"500\" height=\"500\">\n",
       "\n",
       "    <rect x=\"100\" y=\"350\" width=\"150\" height=\"150\" fill=\"red\"/>\n",
       "    <rect x=\"145\" y=\"440\" width=\"60\" height=\"60\" fill=\"brown\"/>\n",
       "    <polygon points=\"100,350 250,350 175,250\" fill=\"blue\"/>\n",
       "    <circle cx=\"400\" cy=\"80\" r=\"50\" fill=\"yellow\"/>\n",
       "    <circle cx=\"350\" cy=\"350\" r=\"20\" fill=\"none\" stroke=\"black\" stroke-width=\"2\"/>\n",
       "    <line x1=\"350\" y1=\"370\" x2=\"350\" y2=\"450\" stroke=\"black\" stroke-width=\"2\"/>\n",
       "    <line x1=\"350\" y1=\"450\" x2=\"320\" y2=\"480\" stroke=\"black\" stroke-width=\"2\"/>\n",
       "    <line x1=\"350\" y1=\"450\" x2=\"370\" y2=\"480\" stroke=\"black\" stroke-width=\"2\"/>\n",
       "    <line x1=\"330\" y1=\"400\" x2=\"370\" y2=\"400\" stroke=\"black\" stroke-width=\"2\"/>\n",
       "    <polygon points=\"0,500 500,500 500,480 0,480\" fill=\"green\"/>\n",
       "\n",
       "</svg>"
      ],
      "text/plain": [
       "<IPython.core.display.SVG object>"
      ]
     },
     "metadata": {},
     "output_type": "display_data"
    }
   ],
   "source": [
    "%%SVG\n",
    "<svg width=\"500\" height=\"500\" xmlns=\"http://www.w3.org/2000/svg\"\n",
    "xmlns:xlink=\"http://www.w3.org/1999/xlink\">\n",
    "\n",
    "    <rect x=\"100\" y=\"350\" width=\"150\" height=\"150\" fill=\"red\"/>\n",
    "    <rect x=\"145\" y=\"440\" width=\"60\" height=\"60\" fill=\"brown\"/>\n",
    "    <polygon points=\"100,350 250,350 175,250\" fill=\"blue\"/>\n",
    "    <circle cx=\"400\" cy=\"80\" r=\"50\" fill=\"yellow\" />\n",
    "    <circle cx=\"350\" cy=\"350\" r=\"20\" fill=\"none\" stroke=\"black\" stroke-width=\"2\"/>\n",
    "    <line x1=\"350\" y1=\"370\" x2=\"350\" y2=\"450\" stroke=\"black\" stroke-width=\"2\"/>\n",
    "    <line x1=\"350\" y1=\"450\" x2=\"320\" y2=\"480\" stroke=\"black\" stroke-width=\"2\"/>\n",
    "    <line x1=\"350\" y1=\"450\" x2=\"370\" y2=\"480\" stroke=\"black\" stroke-width=\"2\"/>\n",
    "    <line x1=\"330\" y1=\"400\" x2=\"370\" y2=\"400\" stroke=\"black\" stroke-width=\"2\"/>\n",
    "    <polygon points=\"0,500 500,500 500,480 0,480\" fill=\"green\"/>\n",
    "\n",
    "</svg>"
   ]
  }
 ],
 "metadata": {
  "kernelspec": {
   "display_name": "Python 3",
   "language": "python",
   "name": "python3"
  },
  "language_info": {
   "codemirror_mode": {
    "name": "ipython",
    "version": 3
   },
   "file_extension": ".py",
   "mimetype": "text/x-python",
   "name": "python",
   "nbconvert_exporter": "python",
   "pygments_lexer": "ipython3",
   "version": "3.11.1"
  },
  "orig_nbformat": 4
 },
 "nbformat": 4,
 "nbformat_minor": 2
}
