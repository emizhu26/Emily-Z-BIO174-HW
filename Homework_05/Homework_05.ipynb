{
 "cells": [
  {
   "cell_type": "markdown",
   "metadata": {},
   "source": [
    "# 1. Population Genetics Simulation\n",
    "\n",
    "Create a program that simulates the allelic frequency in a finite diploid population for a certain number of generations.\n",
    "\n",
    "The program takes as input the initial allele frequencies, the fitness of each genotype, the population size, and the number of generations. Because these simulations are stochastic each run of the simulation will give a different result, to allow an idea of the behavior of the allelic frequencies, your program should repeat the simulations many times for each parameter set and plot all the results in a single graph. The number of simulations should also be determined by the user. You can start your program using the variable definitions in the cell below.\n",
    "\n",
    "Your program should output two graphs. The first should show the allele frequency at each generation, and the other should be a histogram with the final values of the allele frequency. Something like this:\n",
    "\n",
    "![simulation](Sim1.png)\n",
    "\n",
    "![histogram](Sim2.png)\n",
    "\n",
    "Last year a student used this homework as the starting point for her project to create a population genetics simulator for BIOL040. You can see the final project here: http://dna.pomona.edu:5006/pop_gen_sim"
   ]
  },
  {
   "cell_type": "markdown",
   "metadata": {},
   "source": [
    "#Packages\n",
    "from numpy import random as rd\n",
    "from plotly.graph_objs import *\n",
    "\n",
    "#Allele frequencies\n",
    "initA = 0.50\n",
    "inita = 0.50\n",
    "\n",
    "#Fitnesses\n",
    "fAA = 1\n",
    "fAa = 1\n",
    "faa = 1\n",
    "\n",
    "#Pop Size\n",
    "pop = 1000\n",
    "\n",
    "#Number of generations\n",
    "gen = 100\n",
    "\n",
    "#Number of simulations\n",
    "sim = 100"
   ]
  },
  {
   "cell_type": "code",
   "execution_count": null,
   "metadata": {},
   "outputs": [],
   "source": [
    "def fitnesses(freqA, freqa, pop):\n",
    "    "
   ]
  },
  {
   "cell_type": "code",
   "execution_count": null,
   "metadata": {},
   "outputs": [],
   "source": [
    "def getM(freqA, freqa):\n",
    "    AA = freqA ** 2\n",
    "    Aa = 2 * freqA * freqa\n",
    "    aa = freqa **2\n",
    "\n",
    "    wAA = freqA ** 2\n",
    "    wAa = 2 * freqA * freqa\n",
    "    waa = freqa **2\n",
    "\n",
    "    return wAA*AA + wAa*Aa + waa*aa"
   ]
  },
  {
   "cell_type": "code",
   "execution_count": null,
   "metadata": {},
   "outputs": [],
   "source": [
    "import numpy as np\n",
    "def calcNextGen(freqA, freqa):\n",
    "\n",
    "    m = getM(freqA, freqa)\n",
    "\n",
    "    wAA = freqA ** 2\n",
    "    wAa = 2 * freqA * freqa\n",
    "    waa = freqa **2\n",
    "\n",
    "    freqAA = wAA*(freqA**2) / m\n",
    "    freqAa = wAa*(2*freqA*freqa) / m\n",
    "    freqaa = waa*(freqa**2) / m\n",
    "\n",
    "    nextfAA = np.random.binomial(100, freqAA, 1)\n",
    "    nextfAa = np.random.binomial(100, freqAa, 1)\n",
    "    nextfaa = np.random.binomial(100, freqaa, 1)\n",
    "\n",
    "    nextfreqA = nextfAA + (nextfAa / 2)\n",
    "    nextfreqa = nextfaa + (nextfAa / 2)\n"
   ]
  },
  {
   "cell_type": "code",
   "execution_count": null,
   "metadata": {},
   "outputs": [],
   "source": [
    "def simulate(initA, inita, fAA, fAa, faa, pop, gen):\n",
    "    "
   ]
  }
 ],
 "metadata": {
  "anaconda-cloud": {},
  "kernelspec": {
   "display_name": "Python 3",
   "language": "python",
   "name": "python3"
  },
  "language_info": {
   "codemirror_mode": {
    "name": "ipython",
    "version": 3
   },
   "file_extension": ".py",
   "mimetype": "text/x-python",
   "name": "python",
   "nbconvert_exporter": "python",
   "pygments_lexer": "ipython3",
   "version": "3.6.3"
  }
 },
 "nbformat": 4,
 "nbformat_minor": 1
}
