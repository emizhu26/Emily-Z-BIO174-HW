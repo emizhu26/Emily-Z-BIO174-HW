{
 "cells": [
  {
   "cell_type": "markdown",
   "metadata": {},
   "source": [
    "# 1. Population Genetics Simulation\n",
    "\n",
    "Create a program that simulates the allelic frequency in a finite diploid population for a certain number of generations.\n",
    "\n",
    "The program takes as input the initial allele frequencies, the fitness of each genotype, the population size, and the number of generations. Because these simulations are stochastic each run of the simulation will give a different result, to allow an idea of the behavior of the allelic frequencies, your program should repeat the simulations many times for each parameter set and plot all the results in a single graph. The number of simulations should also be determined by the user. You can start your program using the variable definitions in the cell below.\n",
    "\n",
    "Your program should output two graphs. The first should show the allele frequency at each generation, and the other should be a histogram with the final values of the allele frequency. Something like this:\n",
    "\n",
    "![simulation](Sim1.png)\n",
    "\n",
    "![histogram](Sim2.png)\n",
    "\n",
    "Last year a student used this homework as the starting point for her project to create a population genetics simulator for BIOL040. You can see the final project here: http://dna.pomona.edu:5006/pop_gen_sim"
   ]
  },
  {
   "cell_type": "markdown",
   "metadata": {},
   "source": [
    "#Packages\n",
    "from numpy import random as rd\n",
    "from plotly.graph_objs import *\n",
    "\n",
    "#Allele frequencies\n",
    "initA = 0.50\n",
    "inita = 0.50\n",
    "\n",
    "#Fitnesses\n",
    "fAA = 1\n",
    "fAa = 1\n",
    "faa = 1\n",
    "\n",
    "#Pop Size\n",
    "pop = 1000\n",
    "\n",
    "#Number of generations\n",
    "gen = 100\n",
    "\n",
    "#Number of simulations\n",
    "sim = 100"
   ]
  },
  {
   "cell_type": "code",
   "execution_count": 5,
   "metadata": {},
   "outputs": [
    {
     "name": "stdout",
     "output_type": "stream",
     "text": [
      "Collecting plotly\n",
      "  Downloading plotly-5.19.0-py3-none-any.whl (15.7 MB)\n",
      "\u001b[2K     \u001b[90m━━━━━━━━━━━━━━━━━━━━━━━━━━━━━━━━━━━━━━━━\u001b[0m \u001b[32m15.7/15.7 MB\u001b[0m \u001b[31m20.7 MB/s\u001b[0m eta \u001b[36m0:00:00\u001b[0m00:01\u001b[0m00:01\u001b[0m\n",
      "\u001b[?25hCollecting tenacity>=6.2.0\n",
      "  Downloading tenacity-8.2.3-py3-none-any.whl (24 kB)\n",
      "Requirement already satisfied: packaging in /Users/emilyzhu/Library/Python/3.11/lib/python/site-packages (from plotly) (23.2)\n",
      "Installing collected packages: tenacity, plotly\n",
      "Successfully installed plotly-5.19.0 tenacity-8.2.3\n",
      "\n",
      "\u001b[1m[\u001b[0m\u001b[34;49mnotice\u001b[0m\u001b[1;39;49m]\u001b[0m\u001b[39;49m A new release of pip available: \u001b[0m\u001b[31;49m22.3.1\u001b[0m\u001b[39;49m -> \u001b[0m\u001b[32;49m24.0\u001b[0m\n",
      "\u001b[1m[\u001b[0m\u001b[34;49mnotice\u001b[0m\u001b[1;39;49m]\u001b[0m\u001b[39;49m To update, run: \u001b[0m\u001b[32;49mpip3.11 install --upgrade pip\u001b[0m\n",
      "Note: you may need to restart the kernel to use updated packages.\n",
      "Collecting plotly-express\n",
      "  Using cached plotly_express-0.4.1-py2.py3-none-any.whl (2.9 kB)\n",
      "Collecting pandas>=0.20.0\n",
      "  Downloading pandas-2.2.1-cp311-cp311-macosx_11_0_arm64.whl (11.3 MB)\n",
      "\u001b[2K     \u001b[90m━━━━━━━━━━━━━━━━━━━━━━━━━━━━━━━━━━━━━━━━\u001b[0m \u001b[32m11.3/11.3 MB\u001b[0m \u001b[31m26.6 MB/s\u001b[0m eta \u001b[36m0:00:00\u001b[0m00:01\u001b[0m0:01\u001b[0m\n",
      "\u001b[?25hRequirement already satisfied: plotly>=4.1.0 in /Library/Frameworks/Python.framework/Versions/3.11/lib/python3.11/site-packages (from plotly-express) (5.19.0)\n",
      "Collecting statsmodels>=0.9.0\n",
      "  Downloading statsmodels-0.14.1-cp311-cp311-macosx_11_0_arm64.whl (10.1 MB)\n",
      "\u001b[2K     \u001b[90m━━━━━━━━━━━━━━━━━━━━━━━━━━━━━━━━━━━━━━━━\u001b[0m \u001b[32m10.1/10.1 MB\u001b[0m \u001b[31m11.0 MB/s\u001b[0m eta \u001b[36m0:00:00\u001b[0m00:01\u001b[0m0:01\u001b[0m\n",
      "\u001b[?25hCollecting scipy>=0.18\n",
      "  Downloading scipy-1.12.0-cp311-cp311-macosx_12_0_arm64.whl (31.4 MB)\n",
      "\u001b[2K     \u001b[90m━━━━━━━━━━━━━━━━━━━━━━━━━━━━━━━━━━━━━━━━\u001b[0m \u001b[32m31.4/31.4 MB\u001b[0m \u001b[31m4.6 MB/s\u001b[0m eta \u001b[36m0:00:00\u001b[0m00:01\u001b[0m00:01\u001b[0m\n",
      "\u001b[?25hCollecting patsy>=0.5\n",
      "  Downloading patsy-0.5.6-py2.py3-none-any.whl (233 kB)\n",
      "\u001b[2K     \u001b[90m━━━━━━━━━━━━━━━━━━━━━━━━━━━━━━━━━━━━━━━\u001b[0m \u001b[32m233.9/233.9 kB\u001b[0m \u001b[31m6.1 MB/s\u001b[0m eta \u001b[36m0:00:00\u001b[0m\n",
      "\u001b[?25hCollecting numpy>=1.11\n",
      "  Downloading numpy-1.26.4-cp311-cp311-macosx_11_0_arm64.whl (14.0 MB)\n",
      "\u001b[2K     \u001b[90m━━━━━━━━━━━━━━━━━━━━━━━━━━━━━━━━━━━━━━━━\u001b[0m \u001b[32m14.0/14.0 MB\u001b[0m \u001b[31m8.2 MB/s\u001b[0m eta \u001b[36m0:00:00\u001b[0m00:01\u001b[0m00:01\u001b[0m\n",
      "\u001b[?25hRequirement already satisfied: python-dateutil>=2.8.2 in /Users/emilyzhu/Library/Python/3.11/lib/python/site-packages (from pandas>=0.20.0->plotly-express) (2.8.2)\n",
      "Collecting pytz>=2020.1\n",
      "  Downloading pytz-2024.1-py2.py3-none-any.whl (505 kB)\n",
      "\u001b[2K     \u001b[90m━━━━━━━━━━━━━━━━━━━━━━━━━━━━━━━━━━━━━━━\u001b[0m \u001b[32m505.5/505.5 kB\u001b[0m \u001b[31m9.9 MB/s\u001b[0m eta \u001b[36m0:00:00\u001b[0ma \u001b[36m0:00:01\u001b[0m\n",
      "\u001b[?25hCollecting tzdata>=2022.7\n",
      "  Downloading tzdata-2024.1-py2.py3-none-any.whl (345 kB)\n",
      "\u001b[2K     \u001b[90m━━━━━━━━━━━━━━━━━━━━━━━━━━━━━━━━━━━━━━━\u001b[0m \u001b[32m345.4/345.4 kB\u001b[0m \u001b[31m4.3 MB/s\u001b[0m eta \u001b[36m0:00:00\u001b[0ma \u001b[36m0:00:01\u001b[0m\n",
      "\u001b[?25hRequirement already satisfied: six in /Users/emilyzhu/Library/Python/3.11/lib/python/site-packages (from patsy>=0.5->plotly-express) (1.16.0)\n",
      "Requirement already satisfied: tenacity>=6.2.0 in /Library/Frameworks/Python.framework/Versions/3.11/lib/python3.11/site-packages (from plotly>=4.1.0->plotly-express) (8.2.3)\n",
      "Requirement already satisfied: packaging in /Users/emilyzhu/Library/Python/3.11/lib/python/site-packages (from plotly>=4.1.0->plotly-express) (23.2)\n",
      "Installing collected packages: pytz, tzdata, numpy, scipy, patsy, pandas, statsmodels, plotly-express\n",
      "Successfully installed numpy-1.26.4 pandas-2.2.1 patsy-0.5.6 plotly-express-0.4.1 pytz-2024.1 scipy-1.12.0 statsmodels-0.14.1 tzdata-2024.1\n",
      "\n",
      "\u001b[1m[\u001b[0m\u001b[34;49mnotice\u001b[0m\u001b[1;39;49m]\u001b[0m\u001b[39;49m A new release of pip available: \u001b[0m\u001b[31;49m22.3.1\u001b[0m\u001b[39;49m -> \u001b[0m\u001b[32;49m24.0\u001b[0m\n",
      "\u001b[1m[\u001b[0m\u001b[34;49mnotice\u001b[0m\u001b[1;39;49m]\u001b[0m\u001b[39;49m To update, run: \u001b[0m\u001b[32;49mpip3.11 install --upgrade pip\u001b[0m\n",
      "Note: you may need to restart the kernel to use updated packages.\n"
     ]
    }
   ],
   "source": [
    "%pip install plotly\n",
    "%pip install plotly-express"
   ]
  },
  {
   "cell_type": "code",
   "execution_count": 7,
   "metadata": {},
   "outputs": [],
   "source": [
    "import numpy as np\n",
    "def calcNextGen(freqA, pop):\n",
    "    freqa = 1 - freqA\n",
    "    fAA = freqA ** 2\n",
    "    fAa = 2 * freqA * freqa\n",
    "    faa = freqa ** 2\n",
    "\n",
    "    wAA = fAA * pop\n",
    "    wAa = fAa * pop\n",
    "    waa = faa * pop\n",
    "\n",
    "    M = wAA*fAA + wAa*fAa + waa*faa\n",
    "\n",
    "    fAA1 = (wAA*fAA) / M\n",
    "    fAa1 = (wAa*fAa) / M\n",
    "    faa1 = (waa*faa) / M\n",
    "\n",
    "    nAA1 = np.random.binomial(pop, fAA1)\n",
    "    nAa1 = np.random.binomial(pop, fAa1)\n",
    "    naa1 = pop - nAA1 - nAa1\n",
    "\n",
    "    fA1 = (np.random.binomial(pop, nAA1)) + ((np.random.binomial(pop, nAa1))/2)\n",
    "\n",
    "    return fA1\n"
   ]
  },
  {
   "cell_type": "code",
   "execution_count": 8,
   "metadata": {},
   "outputs": [
    {
     "ename": "ValueError",
     "evalue": "p < 0, p > 1 or p is NaN",
     "output_type": "error",
     "traceback": [
      "\u001b[0;31m---------------------------------------------------------------------------\u001b[0m",
      "\u001b[0;31mValueError\u001b[0m                                Traceback (most recent call last)",
      "\u001b[1;32m/Users/emilyzhu/Desktop/Emily-Z-BIO174-HW/Homework_05/Homework_05.ipynb Cell 5\u001b[0m line \u001b[0;36m1\n\u001b[1;32m     <a href='vscode-notebook-cell:/Users/emilyzhu/Desktop/Emily-Z-BIO174-HW/Homework_05/Homework_05.ipynb#W5sZmlsZQ%3D%3D?line=10'>11</a>\u001b[0m     \u001b[39mprint\u001b[39m(A_vals)\n\u001b[1;32m     <a href='vscode-notebook-cell:/Users/emilyzhu/Desktop/Emily-Z-BIO174-HW/Homework_05/Homework_05.ipynb#W5sZmlsZQ%3D%3D?line=12'>13</a>\u001b[0m     \u001b[39m# a = np.array\u001b[39;00m\n\u001b[1;32m     <a href='vscode-notebook-cell:/Users/emilyzhu/Desktop/Emily-Z-BIO174-HW/Homework_05/Homework_05.ipynb#W5sZmlsZQ%3D%3D?line=13'>14</a>\u001b[0m     \u001b[39m# fig = px.line(x = [0..sim], y = a)\u001b[39;00m\n\u001b[1;32m     <a href='vscode-notebook-cell:/Users/emilyzhu/Desktop/Emily-Z-BIO174-HW/Homework_05/Homework_05.ipynb#W5sZmlsZQ%3D%3D?line=14'>15</a>\u001b[0m     \u001b[39m# fig.show()\u001b[39;00m\n\u001b[0;32m---> <a href='vscode-notebook-cell:/Users/emilyzhu/Desktop/Emily-Z-BIO174-HW/Homework_05/Homework_05.ipynb#W5sZmlsZQ%3D%3D?line=16'>17</a>\u001b[0m simulate(\u001b[39m0.5\u001b[39;49m, \u001b[39m100\u001b[39;49m, \u001b[39m10\u001b[39;49m)\n",
      "\u001b[1;32m/Users/emilyzhu/Desktop/Emily-Z-BIO174-HW/Homework_05/Homework_05.ipynb Cell 5\u001b[0m line \u001b[0;36m5\n\u001b[1;32m      <a href='vscode-notebook-cell:/Users/emilyzhu/Desktop/Emily-Z-BIO174-HW/Homework_05/Homework_05.ipynb#W5sZmlsZQ%3D%3D?line=1'>2</a>\u001b[0m \u001b[39mdef\u001b[39;00m \u001b[39msimulate\u001b[39m(initA, pop, gen):\n\u001b[1;32m      <a href='vscode-notebook-cell:/Users/emilyzhu/Desktop/Emily-Z-BIO174-HW/Homework_05/Homework_05.ipynb#W5sZmlsZQ%3D%3D?line=3'>4</a>\u001b[0m     A_vals \u001b[39m=\u001b[39m []\n\u001b[0;32m----> <a href='vscode-notebook-cell:/Users/emilyzhu/Desktop/Emily-Z-BIO174-HW/Homework_05/Homework_05.ipynb#W5sZmlsZQ%3D%3D?line=4'>5</a>\u001b[0m     nextA \u001b[39m=\u001b[39m calcNextGen(initA, pop)\n\u001b[1;32m      <a href='vscode-notebook-cell:/Users/emilyzhu/Desktop/Emily-Z-BIO174-HW/Homework_05/Homework_05.ipynb#W5sZmlsZQ%3D%3D?line=5'>6</a>\u001b[0m     A_vals\u001b[39m.\u001b[39mappend(initA)\n\u001b[1;32m      <a href='vscode-notebook-cell:/Users/emilyzhu/Desktop/Emily-Z-BIO174-HW/Homework_05/Homework_05.ipynb#W5sZmlsZQ%3D%3D?line=6'>7</a>\u001b[0m     \u001b[39mfor\u001b[39;00m i \u001b[39min\u001b[39;00m \u001b[39mrange\u001b[39m(gen):\n",
      "\u001b[1;32m/Users/emilyzhu/Desktop/Emily-Z-BIO174-HW/Homework_05/Homework_05.ipynb Cell 5\u001b[0m line \u001b[0;36m2\n\u001b[1;32m     <a href='vscode-notebook-cell:/Users/emilyzhu/Desktop/Emily-Z-BIO174-HW/Homework_05/Homework_05.ipynb#W5sZmlsZQ%3D%3D?line=18'>19</a>\u001b[0m nAa1 \u001b[39m=\u001b[39m np\u001b[39m.\u001b[39mrandom\u001b[39m.\u001b[39mbinomial(pop, fAa1)\n\u001b[1;32m     <a href='vscode-notebook-cell:/Users/emilyzhu/Desktop/Emily-Z-BIO174-HW/Homework_05/Homework_05.ipynb#W5sZmlsZQ%3D%3D?line=19'>20</a>\u001b[0m naa1 \u001b[39m=\u001b[39m pop \u001b[39m-\u001b[39m nAA1 \u001b[39m-\u001b[39m nAa1\n\u001b[0;32m---> <a href='vscode-notebook-cell:/Users/emilyzhu/Desktop/Emily-Z-BIO174-HW/Homework_05/Homework_05.ipynb#W5sZmlsZQ%3D%3D?line=21'>22</a>\u001b[0m fA1 \u001b[39m=\u001b[39m (np\u001b[39m.\u001b[39;49mrandom\u001b[39m.\u001b[39;49mbinomial(pop, nAA1)) \u001b[39m+\u001b[39m ((np\u001b[39m.\u001b[39mrandom\u001b[39m.\u001b[39mbinomial(pop, nAa1))\u001b[39m/\u001b[39m\u001b[39m2\u001b[39m)\n\u001b[1;32m     <a href='vscode-notebook-cell:/Users/emilyzhu/Desktop/Emily-Z-BIO174-HW/Homework_05/Homework_05.ipynb#W5sZmlsZQ%3D%3D?line=23'>24</a>\u001b[0m \u001b[39mreturn\u001b[39;00m fA1\n",
      "File \u001b[0;32mnumpy/random/mtrand.pyx:3486\u001b[0m, in \u001b[0;36mnumpy.random.mtrand.RandomState.binomial\u001b[0;34m()\u001b[0m\n",
      "File \u001b[0;32m_common.pyx:430\u001b[0m, in \u001b[0;36mnumpy.random._common.check_constraint\u001b[0;34m()\u001b[0m\n",
      "\u001b[0;31mValueError\u001b[0m: p < 0, p > 1 or p is NaN"
     ]
    }
   ],
   "source": [
    "import plotly.express as px\n",
    "def simulate(initA, pop, gen, sim):\n",
    "    \n",
    "    A_vals = []\n",
    "    nextA = calcNextGen(initA, pop)\n",
    "    A_vals.append(initA)\n",
    "    for i in range(gen):\n",
    "        A_vals.append(nextA)\n",
    "        nextA = calcNextGen(initA, pop)\n",
    "\n",
    "    print(A_vals)\n",
    "    \n",
    "    a = np.array\n",
    "    fig = px.line(x = sim, y = a)\n",
    "    fig.show()"
   ]
  },
  {
   "cell_type": "code",
   "execution_count": 11,
   "metadata": {},
   "outputs": [
    {
     "ename": "ValueError",
     "evalue": "p < 0, p > 1 or p is NaN",
     "output_type": "error",
     "traceback": [
      "\u001b[0;31m---------------------------------------------------------------------------\u001b[0m",
      "\u001b[0;31mValueError\u001b[0m                                Traceback (most recent call last)",
      "\u001b[1;32m/Users/emilyzhu/Desktop/Emily-Z-BIO174-HW/Homework_05/Homework_05.ipynb Cell 6\u001b[0m line \u001b[0;36m1\n\u001b[1;32m     <a href='vscode-notebook-cell:/Users/emilyzhu/Desktop/Emily-Z-BIO174-HW/Homework_05/Homework_05.ipynb#X13sZmlsZQ%3D%3D?line=10'>11</a>\u001b[0m     hist1 \u001b[39m=\u001b[39m go\u001b[39m.\u001b[39mHistogram(x\u001b[39m=\u001b[39mAfreqs)\n\u001b[1;32m     <a href='vscode-notebook-cell:/Users/emilyzhu/Desktop/Emily-Z-BIO174-HW/Homework_05/Homework_05.ipynb#X13sZmlsZQ%3D%3D?line=11'>12</a>\u001b[0m     go\u001b[39m.\u001b[39mFigure(data\u001b[39m=\u001b[39m[hist1])\n\u001b[0;32m---> <a href='vscode-notebook-cell:/Users/emilyzhu/Desktop/Emily-Z-BIO174-HW/Homework_05/Homework_05.ipynb#X13sZmlsZQ%3D%3D?line=13'>14</a>\u001b[0m makeHist(\u001b[39m0.5\u001b[39;49m, \u001b[39m100\u001b[39;49m, \u001b[39m10\u001b[39;49m, \u001b[39m5\u001b[39;49m)\n",
      "\u001b[1;32m/Users/emilyzhu/Desktop/Emily-Z-BIO174-HW/Homework_05/Homework_05.ipynb Cell 6\u001b[0m line \u001b[0;36m6\n\u001b[1;32m      <a href='vscode-notebook-cell:/Users/emilyzhu/Desktop/Emily-Z-BIO174-HW/Homework_05/Homework_05.ipynb#X13sZmlsZQ%3D%3D?line=3'>4</a>\u001b[0m \u001b[39mfor\u001b[39;00m i \u001b[39min\u001b[39;00m \u001b[39mrange\u001b[39m(sim):\n\u001b[1;32m      <a href='vscode-notebook-cell:/Users/emilyzhu/Desktop/Emily-Z-BIO174-HW/Homework_05/Homework_05.ipynb#X13sZmlsZQ%3D%3D?line=4'>5</a>\u001b[0m     \u001b[39mfor\u001b[39;00m i \u001b[39min\u001b[39;00m \u001b[39mrange\u001b[39m(gen):\n\u001b[0;32m----> <a href='vscode-notebook-cell:/Users/emilyzhu/Desktop/Emily-Z-BIO174-HW/Homework_05/Homework_05.ipynb#X13sZmlsZQ%3D%3D?line=5'>6</a>\u001b[0m         nextA \u001b[39m=\u001b[39m calcNextGen(initA, pop)\n\u001b[1;32m      <a href='vscode-notebook-cell:/Users/emilyzhu/Desktop/Emily-Z-BIO174-HW/Homework_05/Homework_05.ipynb#X13sZmlsZQ%3D%3D?line=6'>7</a>\u001b[0m         initA \u001b[39m=\u001b[39m nextA\n\u001b[1;32m      <a href='vscode-notebook-cell:/Users/emilyzhu/Desktop/Emily-Z-BIO174-HW/Homework_05/Homework_05.ipynb#X13sZmlsZQ%3D%3D?line=8'>9</a>\u001b[0m     Afreqs[i] \u001b[39m=\u001b[39m initA\n",
      "\u001b[1;32m/Users/emilyzhu/Desktop/Emily-Z-BIO174-HW/Homework_05/Homework_05.ipynb Cell 6\u001b[0m line \u001b[0;36m2\n\u001b[1;32m     <a href='vscode-notebook-cell:/Users/emilyzhu/Desktop/Emily-Z-BIO174-HW/Homework_05/Homework_05.ipynb#X13sZmlsZQ%3D%3D?line=18'>19</a>\u001b[0m nAa1 \u001b[39m=\u001b[39m np\u001b[39m.\u001b[39mrandom\u001b[39m.\u001b[39mbinomial(pop, fAa1)\n\u001b[1;32m     <a href='vscode-notebook-cell:/Users/emilyzhu/Desktop/Emily-Z-BIO174-HW/Homework_05/Homework_05.ipynb#X13sZmlsZQ%3D%3D?line=19'>20</a>\u001b[0m naa1 \u001b[39m=\u001b[39m pop \u001b[39m-\u001b[39m nAA1 \u001b[39m-\u001b[39m nAa1\n\u001b[0;32m---> <a href='vscode-notebook-cell:/Users/emilyzhu/Desktop/Emily-Z-BIO174-HW/Homework_05/Homework_05.ipynb#X13sZmlsZQ%3D%3D?line=21'>22</a>\u001b[0m fA1 \u001b[39m=\u001b[39m (np\u001b[39m.\u001b[39;49mrandom\u001b[39m.\u001b[39;49mbinomial(pop, nAA1)) \u001b[39m+\u001b[39m ((np\u001b[39m.\u001b[39mrandom\u001b[39m.\u001b[39mbinomial(pop, nAa1))\u001b[39m/\u001b[39m\u001b[39m2\u001b[39m)\n\u001b[1;32m     <a href='vscode-notebook-cell:/Users/emilyzhu/Desktop/Emily-Z-BIO174-HW/Homework_05/Homework_05.ipynb#X13sZmlsZQ%3D%3D?line=23'>24</a>\u001b[0m \u001b[39mreturn\u001b[39;00m fA1\n",
      "File \u001b[0;32mnumpy/random/mtrand.pyx:3486\u001b[0m, in \u001b[0;36mnumpy.random.mtrand.RandomState.binomial\u001b[0;34m()\u001b[0m\n",
      "File \u001b[0;32m_common.pyx:430\u001b[0m, in \u001b[0;36mnumpy.random._common.check_constraint\u001b[0;34m()\u001b[0m\n",
      "\u001b[0;31mValueError\u001b[0m: p < 0, p > 1 or p is NaN"
     ]
    }
   ],
   "source": [
    "import plotly.graph_objs as go\n",
    "def makeHist(initA, pop, gen, sim):\n",
    "    Afreqs = []\n",
    "    for i in range(sim):\n",
    "        for i in range(gen):\n",
    "            nextA = calcNextGen(initA, pop)\n",
    "            initA = nextA\n",
    "\n",
    "        Afreqs[i] = initA\n",
    "    \n",
    "    hist1 = go.Histogram(x=Afreqs)\n",
    "    go.Figure(data=[hist1])\n",
    "\n",
    "makeHist(0.5, 100, 10, 5)"
   ]
  }
 ],
 "metadata": {
  "anaconda-cloud": {},
  "kernelspec": {
   "display_name": "Python 3",
   "language": "python",
   "name": "python3"
  },
  "language_info": {
   "codemirror_mode": {
    "name": "ipython",
    "version": 3
   },
   "file_extension": ".py",
   "mimetype": "text/x-python",
   "name": "python",
   "nbconvert_exporter": "python",
   "pygments_lexer": "ipython3",
   "version": "3.11.1"
  }
 },
 "nbformat": 4,
 "nbformat_minor": 1
}
